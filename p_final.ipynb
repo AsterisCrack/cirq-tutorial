{
 "cells": [
  {
   "cell_type": "markdown",
   "metadata": {},
   "source": [
    "<h1>Configuracion inicial</h1>\n",
    "\n",
    "Para poder ejecutar este Notebook, hace falta instalar las dependencias. Para ello, creamos un entorno virtual y hacemos `pip install -r requirements.txt`. \n",
    "\n",
    "Antes de poder hacer eso, debemos tener instalado Rust para poder usar el paquete `cirq`. \n",
    "\n",
    "Se recomienda usar WSL o Linux para ello, y escribir en la consola el siguiente comando: \n",
    "\n",
    "```console\n",
    "    curl --proto '=https' --tlsv1.2 -sSf https://sh.rustup.rs | sh`\n",
    "```\n",
    " y proceder con la instalación por defecto. "
   ]
  },
  {
   "cell_type": "code",
   "execution_count": 1,
   "metadata": {},
   "outputs": [],
   "source": [
    "# importamos todos los paquetes que vayamos a necesitar.\n",
    "import cirq\n",
    "import numpy as np\n",
    "import matplotlib.pyplot as plt"
   ]
  },
  {
   "cell_type": "code",
   "execution_count": 2,
   "metadata": {},
   "outputs": [],
   "source": [
    "# Definimos los qubits a utilizar\n",
    "qubits = [cirq.LineQubit(i) for i in range(3)]  # Usaremos 3 qubits: dos para teleportación y uno ancilla"
   ]
  },
  {
   "cell_type": "markdown",
   "metadata": {},
   "source": [
    "<h3> Definición del oráculo </h3>\n",
    "El oráculo en el algoritmo de Grover marca el estado objetivo. En Qiskit, se realiza mediante operadores controlados; en Cirq, lo replicamos con una puerta personalizada:"
   ]
  },
  {
   "cell_type": "code",
   "execution_count": 3,
   "metadata": {},
   "outputs": [],
   "source": [
    "# Oráculo para marcar el estado objetivo |11>\n",
    "def grover_oracle(qubits):\n",
    "    circuit = cirq.Circuit()\n",
    "    # Aplicar X al primer y segundo qubit para preparar el estado |11>\n",
    "    circuit.append([cirq.X(qubits[0]), cirq.X(qubits[1])])\n",
    "    # Aplicar un Toffoli controlado en el tercer qubit\n",
    "    circuit.append(cirq.TOFFOLI(qubits[0], qubits[1], qubits[2]))\n",
    "    # Revertir las X\n",
    "    circuit.append([cirq.X(qubits[0]), cirq.X(qubits[1])])\n",
    "    return circuit\n"
   ]
  },
  {
   "cell_type": "markdown",
   "metadata": {},
   "source": [
    "<h3> Construcción del operador difusor </h3>\n",
    "El difusor refleja el estado actual respecto a la media de amplitudes:"
   ]
  },
  {
   "cell_type": "code",
   "execution_count": 4,
   "metadata": {},
   "outputs": [],
   "source": [
    "# Operador difusor\n",
    "def diffusion_operator(qubits):\n",
    "    circuit = cirq.Circuit()\n",
    "    # Aplicar H a todos los qubits\n",
    "    circuit.append(cirq.H.on_each(*qubits[:2]))\n",
    "    # Aplicar X a todos los qubits\n",
    "    circuit.append(cirq.X.on_each(*qubits[:2]))\n",
    "    # Aplicar un Z controlado (equivalente a un Toffoli invertido)\n",
    "    circuit.append(cirq.TOFFOLI(qubits[0], qubits[1], qubits[2]))\n",
    "    # Revertir las X\n",
    "    circuit.append(cirq.X.on_each(*qubits[:2]))\n",
    "    # Revertir las H\n",
    "    circuit.append(cirq.H.on_each(*qubits[:2]))\n",
    "    return circuit\n"
   ]
  },
  {
   "cell_type": "markdown",
   "metadata": {},
   "source": [
    "<h3> Construcción del circuito completo </h3>\n",
    "Combinamos el oráculo y el difusor para construir el circuito de Grover"
   ]
  },
  {
   "cell_type": "code",
   "execution_count": 5,
   "metadata": {},
   "outputs": [
    {
     "name": "stdout",
     "output_type": "stream",
     "text": [
      "Circuito construido:\n",
      "0: ───H───X───@───X───H───X───@───X───H───M('result')───\n",
      "              │               │           │\n",
      "1: ───H───X───@───X───H───X───@───X───H───M─────────────\n",
      "              │               │\n",
      "2: ───────────X───────────────X─────────────────────────\n"
     ]
    }
   ],
   "source": [
    "# Construir el circuito completo\n",
    "circuit = cirq.Circuit()\n",
    "\n",
    "# Estado inicial |000>\n",
    "circuit.append(cirq.H.on_each(*qubits[:2]))  # Aplicar H a los qubits de datos\n",
    "\n",
    "# Iteraciones de Grover\n",
    "iterations = 1  # Usamos una iteración para este ejemplo\n",
    "for _ in range(iterations):\n",
    "    circuit += grover_oracle(qubits)\n",
    "    circuit += diffusion_operator(qubits)\n",
    "\n",
    "# Medición\n",
    "circuit.append(cirq.measure(*qubits[:2], key='result'))\n",
    "\n",
    "# Mostrar el circuito\n",
    "print(\"Circuito construido:\")\n",
    "print(circuit)\n"
   ]
  },
  {
   "cell_type": "code",
   "execution_count": 6,
   "metadata": {},
   "outputs": [],
   "source": [
    "def plot_histogram(result):\n",
    "    # Crear un histograma con los resultados de la simulación\n",
    "    plt.bar(result.histogram(key=\"result\").keys(), result.histogram(key=\"result\").values())\n",
    "    \n",
    "    plt.xlabel('Estado')\n",
    "    plt.ylabel('Conteo')\n",
    "    plt.show()"
   ]
  },
  {
   "cell_type": "markdown",
   "metadata": {},
   "source": [
    "<h3> Simulación </h3>\n",
    "Simulamos el circuito y mostramos los resultados"
   ]
  },
  {
   "cell_type": "code",
   "execution_count": 7,
   "metadata": {},
   "outputs": [
    {
     "name": "stdout",
     "output_type": "stream",
     "text": [
      "Resultados:\n",
      "Counter({0: 598, 1: 141, 3: 137, 2: 124})\n"
     ]
    },
    {
     "data": {
      "image/png": "[encoded data removed]",
      "text/plain": [
       "<Figure size 640x480 with 1 Axes>"
      ]
     },
     "metadata": {},
     "output_type": "display_data"
    }
   ],
   "source": [
    "# Simulador de Cirq\n",
    "simulator = cirq.Simulator()\n",
    "\n",
    "# Simular el circuito\n",
    "result = simulator.run(circuit, repetitions=1000)\n",
    "\n",
    "# Mostrar resultados\n",
    "print(\"Resultados:\")\n",
    "print(result.histogram(key='result'))\n",
    "# plotear el resultado\n",
    "plot_histogram(result)"
   ]
  }
 ],
 "metadata": {
  "kernelspec": {
   "display_name": "Python 3",
   "language": "python",
   "name": "python3"
  },
  "language_info": {
   "codemirror_mode": {
    "name": "ipython",
    "version": 3
   },
   "file_extension": ".py",
   "mimetype": "text/x-python",
   "name": "python",
   "nbconvert_exporter": "python",
   "pygments_lexer": "ipython3",
   "version": "3.10.12"
  }
 },
 "nbformat": 4,
 "nbformat_minor": 2
}
