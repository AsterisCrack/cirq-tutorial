{
 "cells": [
  {
   "cell_type": "markdown",
   "metadata": {},
   "source": [
    "<h1>Algoritmo de Grover con Cirq</h1>\n",
    "\n",
    "<img src=\"https://cnot.io/quantum_algorithms/grover/img/fig15.png\" width=\"400\" align=\"center\"/>\n",
    "\n",
    "En este notebook, implementaremos el algoritmo de Grover utilizando **Cirq**, un framework de Google para la computación cuántica. Exploraremos tanto la teoría subyacente como la implementación práctica del algoritmo."
   ]
  },
  {
   "cell_type": "markdown",
   "metadata": {},
   "source": [
    " <h2>1. Configuración inicial</h2>\n",
    "\n",
    "\n",
    "\n",
    " Para poder ejecutar este Notebook, hace falta instalar las dependencias. Para ello, creamos un entorno virtual y hacemos `pip install -r requirements.txt`.\n",
    "\n",
    "\n",
    "\n",
    " Antes de poder hacer eso, debemos tener instalado Rust para poder usar el paquete `cirq`.\n",
    "\n",
    "\n",
    "\n",
    " Se recomienda usar WSL o Linux para ello, y escribir en la consola el siguiente comando:\n",
    "\n",
    "\n",
    "\n",
    " ```console\n",
    "\n",
    "      curl --proto '=https' --tlsv1.2 -sSf https://sh.rustup.rs | sh`\n",
    "\n",
    " ```\n",
    "\n",
    " y proceder con la instalación por defecto."
   ]
  },
  {
   "cell_type": "markdown",
   "metadata": {},
   "source": [
    "  <h2>2. Importar librerías necesarias</h2>\n",
    "\n",
    "\n",
    "\n",
    "\n",
    "\n",
    "\n",
    "\n",
    "  A continuación, importamos las librerías requeridas."
   ]
  },
  {
   "cell_type": "code",
   "execution_count": 15,
   "metadata": {},
   "outputs": [],
   "source": [
    "import cirq\n",
    "import numpy as np\n",
    "import matplotlib.pyplot as plt"
   ]
  },
  {
   "cell_type": "markdown",
   "metadata": {},
   "source": [
    "<h2>3. Fundamentos Teóricos del Algoritmo de Grover</h2>\n",
    "\n",
    "### 3.1. Introducción\n",
    "\n",
    "El **algoritmo de Grover** es un algoritmo cuántico diseñado para realizar búsquedas en una base de datos no estructurada de manera eficiente. Este algoritmo proporciona una ventaja significativa frente a los algoritmos clásicos, reduciendo el número de operaciones necesarias de \\( O(N) \\) a \\( O(\\sqrt{N}) \\). donde \\( N \\) es el tamaño de la base de datos.\n",
    " \n",
    "### 3.2. Componentes Clave\n",
    "\n",
    "1. **Oráculo de Grover**: Una operación que marca el estado objetivo invirtiendo su amplitud de fase.\n",
    "2. **Operador Difusor**: Amplifica la amplitud del estado marcado, incrementando así su probabilidad de ser medido.\n",
    "3. **Estado Inicial**: Todos los estados están en una superposición equitativa gracias a las puertas de Hadamard.\n",
    "\n",
    "### 3.3. Ventajas Cuánticas\n",
    "\n",
    "A diferencia de los algoritmos clásicos que requieren \\( O(N) \\) operaciones para una búsqueda no estructurada, Grover logra esto en \\( O(\\sqrt{N}) \\) operaciones, proporcionando una ventaja cuadrática significativa.\n",
    "\n",
    "<h2>4. Definición de los Qubits</h2>\n",
    " \n",
    "Definimos los qubits que utilizaremos en nuestro circuito cuántico.\n",
    " \n",
    "- **Qubits 0 y 1**: Representan los datos a buscar.\n",
    "- **Qubit 2**: Es un qubit ancilla utilizado para operaciones controladas.\n"
   ]
  },
  {
   "cell_type": "code",
   "execution_count": 16,
   "metadata": {},
   "outputs": [],
   "source": [
    "# Definimos 3 qubits\n",
    "qubits = [cirq.LineQubit(i) for i in range(3)]\n",
    "\n"
   ]
  },
  {
   "cell_type": "markdown",
   "metadata": {},
   "source": [
    "<h2>5. Oráculo de Grover</h2>\n",
    " \n",
    "El oráculo es una función cuántica que marca el estado objetivo. En este caso, identificaremos el estado \\(|11\\rangle\\).\n",
    "\n",
    "<img src=\"https://arxiv.org/html/2406.16018v1/extracted/5685764/Grover_circuit_ex000.png\" align=\"center\"/>\n",
    " \n",
    "### 5.1. Implementación del Oráculo\n",
    "\n",
    "El oráculo utiliza puertas \\( X \\) para preparar el estado objetivo, una puerta Toffoli para invertir la amplitud del estado objetivo y nuevamente puertas \\( X \\) para restaurar los qubits a su estado original.\n"
   ]
  },
  {
   "cell_type": "code",
   "execution_count": 17,
   "metadata": {},
   "outputs": [],
   "source": [
    "# Oráculo para marcar el estado objetivo |11>\n",
    "def grover_oracle(qubits):\n",
    "    # Este oráculo debe marcar el estado |11>\n",
    "    circuit = cirq.Circuit()\n",
    "    # Aplicar puertas X a los dos primeros qubits para preparar el estado objetivo |11>\n",
    "    circuit.append([cirq.X(qubits[0]), cirq.X(qubits[1])])\n",
    "    # Aplicar una puerta Toffoli para invertir la amplitud si ambos controles están en |1>\n",
    "    circuit.append(cirq.TOFFOLI(qubits[0], qubits[1], qubits[2]))\n",
    "    # Aplicar nuevamente puertas X para restaurar el estado original\n",
    "    circuit.append([cirq.X(qubits[0]), cirq.X(qubits[1])])\n",
    "    return circuit\n",
    "\n"
   ]
  },
  {
   "cell_type": "markdown",
   "metadata": {},
   "source": [
    "<h2>6. Operador Difusor</h2>\n",
    "\n",
    "El operador difusor realiza una reflexión respecto a la media de las amplitudes, amplificando así la amplitud del estado marcado.\n",
    " \n",
    "### 6.1. Implementación del Operador Difusor\n",
    "\n",
    "El operador difusor aplica puertas de Hadamard, puertas \\( X \\), una puerta Toffoli y luego revierte las operaciones iniciales.\n"
   ]
  },
  {
   "cell_type": "code",
   "execution_count": 18,
   "metadata": {},
   "outputs": [],
   "source": [
    "# Operador difusor\n",
    "def diffusion_operator(qubits):\n",
    "    # Este es el operador difusor, también conocido como \"inversión sobre la media\"\n",
    "    circuit = cirq.Circuit()\n",
    "    # Aplicar puertas Hadamard a todos los qubits (excepto el ancilla)\n",
    "    circuit.append(cirq.H.on_each(*qubits[:2]))\n",
    "    # Aplicar puertas X a todos los qubits (excepto el ancilla)\n",
    "    circuit.append(cirq.X.on_each(*qubits[:2]))\n",
    "    # Aplicar una puerta Toffoli\n",
    "    circuit.append(cirq.TOFFOLI(qubits[0], qubits[1], qubits[2]))\n",
    "    # Reaplicar puertas X\n",
    "    circuit.append(cirq.X.on_each(*qubits[:2]))\n",
    "    # Reaplicar puertas Hadamard\n",
    "    circuit.append(cirq.H.on_each(*qubits[:2]))\n",
    "    return circuit\n",
    "\n"
   ]
  },
  {
   "cell_type": "markdown",
   "metadata": {},
   "source": [
    "<h2>7. Construcción del Circuito Completo</h2>\n",
    " \n",
    "Combinamos el oráculo y el operador difusor para construir el circuito completo del algoritmo de Grover.\n",
    "\n",
    "### 7.1. Estado Inicial\n",
    "\n",
    "Inicializamos los qubits de datos en una superposición equitativa aplicando puertas de Hadamard.\n",
    "\n",
    "### 7.2. Iteraciones de Grover\n",
    " \n",
    "Alternamos entre el oráculo y el operador difusor. El número óptimo de iteraciones para maximizar la probabilidad de encontrar el estado objetivo es aproximadamente \\( \\frac{\\pi}{4} \\sqrt{N} \\).\n",
    "\n",
    "### 7.3. Medición\n",
    "\n",
    "Finalmente, medimos los qubits de datos para determinar el estado objetivo.\n"
   ]
  },
  {
   "cell_type": "code",
   "execution_count": 19,
   "metadata": {},
   "outputs": [
    {
     "data": {
      "image/svg+xml": [
       "<svg xmlns=\"http://www.w3.org/2000/svg\" width=\"737.7236328125\" height=\"150.0\"><line x1=\"30.0\" x2=\"707.7236328125\" y1=\"25.0\" y2=\"25.0\" stroke=\"#1967d2\" stroke-width=\"1\" /><line x1=\"30.0\" x2=\"707.7236328125\" y1=\"75.0\" y2=\"75.0\" stroke=\"#1967d2\" stroke-width=\"1\" /><line x1=\"30.0\" x2=\"707.7236328125\" y1=\"125.0\" y2=\"125.0\" stroke=\"#1967d2\" stroke-width=\"1\" /><line x1=\"210.0\" x2=\"210.0\" y1=\"25.0\" y2=\"125.0\" stroke=\"black\" stroke-width=\"3\" /><line x1=\"450.0\" x2=\"450.0\" y1=\"25.0\" y2=\"125.0\" stroke=\"black\" stroke-width=\"3\" /><line x1=\"648.86181640625\" x2=\"648.86181640625\" y1=\"25.0\" y2=\"75.0\" stroke=\"black\" stroke-width=\"3\" /><rect x=\"10.0\" y=\"5.0\" width=\"40\" height=\"40\" stroke=\"black\" fill=\"white\" stroke-width=\"0\" /><text x=\"30.0\" y=\"25.0\" dominant-baseline=\"middle\" text-anchor=\"middle\" font-size=\"14px\" font-family=\"sans\\-serif:style=normal:variant=normal:weight=normal:stretch=normal:size=10.0\">0: </text><rect x=\"10.0\" y=\"55.0\" width=\"40\" height=\"40\" stroke=\"black\" fill=\"white\" stroke-width=\"0\" /><text x=\"30.0\" y=\"75.0\" dominant-baseline=\"middle\" text-anchor=\"middle\" font-size=\"14px\" font-family=\"sans\\-serif:style=normal:variant=normal:weight=normal:stretch=normal:size=10.0\">1: </text><rect x=\"10.0\" y=\"105.0\" width=\"40\" height=\"40\" stroke=\"black\" fill=\"white\" stroke-width=\"0\" /><text x=\"30.0\" y=\"125.0\" dominant-baseline=\"middle\" text-anchor=\"middle\" font-size=\"14px\" font-family=\"sans\\-serif:style=normal:variant=normal:weight=normal:stretch=normal:size=10.0\">2: </text><rect x=\"70.0\" y=\"5.0\" width=\"40\" height=\"40\" stroke=\"black\" fill=\"white\" stroke-width=\"1\" /><text x=\"90.0\" y=\"25.0\" dominant-baseline=\"middle\" text-anchor=\"middle\" font-size=\"18px\" font-family=\"sans\\-serif:style=normal:variant=normal:weight=normal:stretch=normal:size=10.0\">H</text><rect x=\"70.0\" y=\"55.0\" width=\"40\" height=\"40\" stroke=\"black\" fill=\"white\" stroke-width=\"1\" /><text x=\"90.0\" y=\"75.0\" dominant-baseline=\"middle\" text-anchor=\"middle\" font-size=\"18px\" font-family=\"sans\\-serif:style=normal:variant=normal:weight=normal:stretch=normal:size=10.0\">H</text><rect x=\"130.0\" y=\"5.0\" width=\"40\" height=\"40\" stroke=\"black\" fill=\"white\" stroke-width=\"1\" /><text x=\"150.0\" y=\"25.0\" dominant-baseline=\"middle\" text-anchor=\"middle\" font-size=\"18px\" font-family=\"sans\\-serif:style=normal:variant=normal:weight=normal:stretch=normal:size=10.0\">X</text><rect x=\"130.0\" y=\"55.0\" width=\"40\" height=\"40\" stroke=\"black\" fill=\"white\" stroke-width=\"1\" /><text x=\"150.0\" y=\"75.0\" dominant-baseline=\"middle\" text-anchor=\"middle\" font-size=\"18px\" font-family=\"sans\\-serif:style=normal:variant=normal:weight=normal:stretch=normal:size=10.0\">X</text><circle cx=\"210.0\" cy=\"25.0\" r=\"10.0\" /><circle cx=\"210.0\" cy=\"75.0\" r=\"10.0\" /><rect x=\"190.0\" y=\"105.0\" width=\"40\" height=\"40\" stroke=\"black\" fill=\"white\" stroke-width=\"1\" /><text x=\"210.0\" y=\"125.0\" dominant-baseline=\"middle\" text-anchor=\"middle\" font-size=\"18px\" font-family=\"sans\\-serif:style=normal:variant=normal:weight=normal:stretch=normal:size=10.0\">X</text><rect x=\"250.0\" y=\"5.0\" width=\"40\" height=\"40\" stroke=\"black\" fill=\"white\" stroke-width=\"1\" /><text x=\"270.0\" y=\"25.0\" dominant-baseline=\"middle\" text-anchor=\"middle\" font-size=\"18px\" font-family=\"sans\\-serif:style=normal:variant=normal:weight=normal:stretch=normal:size=10.0\">X</text><rect x=\"250.0\" y=\"55.0\" width=\"40\" height=\"40\" stroke=\"black\" fill=\"white\" stroke-width=\"1\" /><text x=\"270.0\" y=\"75.0\" dominant-baseline=\"middle\" text-anchor=\"middle\" font-size=\"18px\" font-family=\"sans\\-serif:style=normal:variant=normal:weight=normal:stretch=normal:size=10.0\">X</text><rect x=\"310.0\" y=\"5.0\" width=\"40\" height=\"40\" stroke=\"black\" fill=\"white\" stroke-width=\"1\" /><text x=\"330.0\" y=\"25.0\" dominant-baseline=\"middle\" text-anchor=\"middle\" font-size=\"18px\" font-family=\"sans\\-serif:style=normal:variant=normal:weight=normal:stretch=normal:size=10.0\">H</text><rect x=\"310.0\" y=\"55.0\" width=\"40\" height=\"40\" stroke=\"black\" fill=\"white\" stroke-width=\"1\" /><text x=\"330.0\" y=\"75.0\" dominant-baseline=\"middle\" text-anchor=\"middle\" font-size=\"18px\" font-family=\"sans\\-serif:style=normal:variant=normal:weight=normal:stretch=normal:size=10.0\">H</text><rect x=\"370.0\" y=\"5.0\" width=\"40\" height=\"40\" stroke=\"black\" fill=\"white\" stroke-width=\"1\" /><text x=\"390.0\" y=\"25.0\" dominant-baseline=\"middle\" text-anchor=\"middle\" font-size=\"18px\" font-family=\"sans\\-serif:style=normal:variant=normal:weight=normal:stretch=normal:size=10.0\">X</text><rect x=\"370.0\" y=\"55.0\" width=\"40\" height=\"40\" stroke=\"black\" fill=\"white\" stroke-width=\"1\" /><text x=\"390.0\" y=\"75.0\" dominant-baseline=\"middle\" text-anchor=\"middle\" font-size=\"18px\" font-family=\"sans\\-serif:style=normal:variant=normal:weight=normal:stretch=normal:size=10.0\">X</text><circle cx=\"450.0\" cy=\"25.0\" r=\"10.0\" /><circle cx=\"450.0\" cy=\"75.0\" r=\"10.0\" /><rect x=\"430.0\" y=\"105.0\" width=\"40\" height=\"40\" stroke=\"black\" fill=\"white\" stroke-width=\"1\" /><text x=\"450.0\" y=\"125.0\" dominant-baseline=\"middle\" text-anchor=\"middle\" font-size=\"18px\" font-family=\"sans\\-serif:style=normal:variant=normal:weight=normal:stretch=normal:size=10.0\">X</text><rect x=\"490.0\" y=\"5.0\" width=\"40\" height=\"40\" stroke=\"black\" fill=\"white\" stroke-width=\"1\" /><text x=\"510.0\" y=\"25.0\" dominant-baseline=\"middle\" text-anchor=\"middle\" font-size=\"18px\" font-family=\"sans\\-serif:style=normal:variant=normal:weight=normal:stretch=normal:size=10.0\">X</text><rect x=\"490.0\" y=\"55.0\" width=\"40\" height=\"40\" stroke=\"black\" fill=\"white\" stroke-width=\"1\" /><text x=\"510.0\" y=\"75.0\" dominant-baseline=\"middle\" text-anchor=\"middle\" font-size=\"18px\" font-family=\"sans\\-serif:style=normal:variant=normal:weight=normal:stretch=normal:size=10.0\">X</text><rect x=\"550.0\" y=\"5.0\" width=\"40\" height=\"40\" stroke=\"black\" fill=\"white\" stroke-width=\"1\" /><text x=\"570.0\" y=\"25.0\" dominant-baseline=\"middle\" text-anchor=\"middle\" font-size=\"18px\" font-family=\"sans\\-serif:style=normal:variant=normal:weight=normal:stretch=normal:size=10.0\">H</text><rect x=\"550.0\" y=\"55.0\" width=\"40\" height=\"40\" stroke=\"black\" fill=\"white\" stroke-width=\"1\" /><text x=\"570.0\" y=\"75.0\" dominant-baseline=\"middle\" text-anchor=\"middle\" font-size=\"18px\" font-family=\"sans\\-serif:style=normal:variant=normal:weight=normal:stretch=normal:size=10.0\">H</text><rect x=\"610.0\" y=\"5.0\" width=\"77.7236328125\" height=\"40\" stroke=\"black\" fill=\"white\" stroke-width=\"1\" /><text x=\"648.86181640625\" y=\"25.0\" dominant-baseline=\"middle\" text-anchor=\"middle\" font-size=\"14px\" font-family=\"sans\\-serif:style=normal:variant=normal:weight=normal:stretch=normal:size=10.0\">M('result')</text><rect x=\"610.0\" y=\"55.0\" width=\"77.7236328125\" height=\"40\" stroke=\"black\" fill=\"white\" stroke-width=\"1\" /><text x=\"648.86181640625\" y=\"75.0\" dominant-baseline=\"middle\" text-anchor=\"middle\" font-size=\"18px\" font-family=\"sans\\-serif:style=normal:variant=normal:weight=normal:stretch=normal:size=10.0\">M</text></svg>"
      ],
      "text/plain": [
       "<cirq.contrib.svg.svg.SVGCircuit at 0x7f890bc02170>"
      ]
     },
     "execution_count": 19,
     "metadata": {},
     "output_type": "execute_result"
    }
   ],
   "source": [
    "# Construir el circuito corregido\n",
    "corrected_circuit = cirq.Circuit()\n",
    "\n",
    "# Estado inicial: superposición\n",
    "corrected_circuit.append(cirq.H.on_each(*qubits[:2]))\n",
    "\n",
    "# Iteraciones de Grover\n",
    "iterations = 1  # Solo una iteración, suficiente para un espacio pequeño\n",
    "for _ in range(iterations):\n",
    "    corrected_circuit += grover_oracle(qubits)\n",
    "    corrected_circuit += diffusion_operator(qubits)\n",
    "\n",
    "# Medición\n",
    "corrected_circuit.append(cirq.measure(*qubits[:2], key='result'))\n",
    "\n",
    "# Mostrar el circuito corregido usando SVGCircuit\n",
    "from cirq.contrib.svg import SVGCircuit\n",
    "SVGCircuit(corrected_circuit)\n",
    "\n"
   ]
  },
  {
   "cell_type": "markdown",
   "metadata": {},
   "source": [
    "<h2>8. Simulación del Circuito</h2>\n",
    "\n",
    "Utilizamos el simulador de Cirq para ejecutar el circuito varias veces y analizar los resultados.\n"
   ]
  },
  {
   "cell_type": "code",
   "execution_count": 20,
   "metadata": {},
   "outputs": [
    {
     "name": "stdout",
     "output_type": "stream",
     "text": [
      "Resultados de la simulación:\n",
      "Counter({0: 620, 3: 131, 1: 126, 2: 123})\n"
     ]
    }
   ],
   "source": [
    "# Simulador de Cirq\n",
    "simulator = cirq.Simulator()\n",
    "\n",
    "# Ejecutar el circuito\n",
    "result = simulator.run(corrected_circuit, repetitions=1000)\n",
    "\n",
    "# Mostrar resultados\n",
    "print(\"Resultados de la simulación:\")\n",
    "print(result.histogram(key='result'))\n"
   ]
  },
  {
   "cell_type": "markdown",
   "metadata": {},
   "source": [
    "<h2>9. Visualización de Resultados</h2>\n",
    "\n",
    "Graficamos un histograma para visualizar la distribución de los estados medidos.\n"
   ]
  },
  {
   "cell_type": "code",
   "execution_count": 21,
   "metadata": {},
   "outputs": [
    {
     "data": {
      "image/png": "[encoded data removed]",
      "text/plain": [
       "<Figure size 640x480 with 1 Axes>"
      ]
     },
     "metadata": {},
     "output_type": "display_data"
    }
   ],
   "source": [
    "def plot_histogram(result):\n",
    "    histogram = result.histogram(key=\"result\")\n",
    "    plt.bar(histogram.keys(), histogram.values(), tick_label=[f'{k:02b}' for k in histogram.keys()])\n",
    "    plt.xlabel('Estado medido')\n",
    "    plt.ylabel('Frecuencia')\n",
    "    plt.title('Resultados de la simulación del algoritmo de Grover')\n",
    "    plt.show()\n",
    "\n",
    "# Graficar resultados\n",
    "plot_histogram(result)\n"
   ]
  },
  {
   "cell_type": "markdown",
   "metadata": {},
   "source": [
    "<h2>10. Conclusiones</h2>\n",
    "En este notebook, hemos implementado el <b>algoritmo de Grover</b> utilizando <b>Cirq</b>, un framework de computación cuántica. Hemos visto cómo el algoritmo utiliza el oráculo y el operador difusor para amplificar la amplitud del estado objetivo, permitiendo así encontrar la solución con una alta probabilidad en un número reducido de iteraciones.\n",
    "\n",
    "### 10.1. Puntos Clave\n",
    "\n",
    "- **Ventaja Cuántica**: Grover proporciona una ventaja cuadrática sobre los algoritmos clásicos en problemas de búsqueda no estructurada.\n",
    "- **Componentes Principales**: Oráculo de Grover y operador difusor son esenciales para el funcionamiento del algoritmo.\n",
    "- **Implementación Práctica**: Cirq facilita la construcción y simulación de circuitos cuánticos de manera eficiente.\n",
    " \n",
    "### 10.2. Posibles Extensiones\n",
    "\n",
    "- **Aumentar el Tamaño de la Base de Datos**: Implementar Grover en una base de datos más grande para observar la escalabilidad.\n",
    "- **Optimización de Iteraciones**: Experimentar con diferentes números de iteraciones para encontrar el óptimo en distintos escenarios.\n",
    "- **Implementación en Hardware Cuántico**: Ejecutar el algoritmo en un dispositivo cuántico real para evaluar el impacto del ruido y otros factores prácticos.\n"
   ]
  }
 ],
 "metadata": {
  "kernelspec": {
   "display_name": "Python 3",
   "language": "python",
   "name": "python3"
  },
  "language_info": {
   "codemirror_mode": {
    "name": "ipython",
    "version": 3
   },
   "file_extension": ".py",
   "mimetype": "text/x-python",
   "name": "python",
   "nbconvert_exporter": "python",
   "pygments_lexer": "ipython3",
   "version": "3.10.12"
  }
 },
 "nbformat": 4,
 "nbformat_minor": 2
}
